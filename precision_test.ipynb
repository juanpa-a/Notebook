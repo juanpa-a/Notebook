{
 "cells": [
  {
   "cell_type": "markdown",
   "metadata": {},
   "source": [
    "## Precision error demostration"
   ]
  },
  {
   "cell_type": "code",
   "execution_count": 14,
   "metadata": {},
   "outputs": [
    {
     "name": "stdout",
     "output_type": "stream",
     "text": [
      "x1= 0.9 y1= 1.0\n",
      "x2= 0.9 y2= 1.0\n"
     ]
    }
   ],
   "source": [
    "a = 1\n",
    "b = 0.1\n",
    "\n",
    "x1 = a + b # 1.0 + 0.1 = 1.1\n",
    "y1 = x - b # 1.1 - 0.1 = 1.0 \n",
    "\n",
    "print('x1= ' + str(x) + ' y1= ' + str(y))\n",
    "\n",
    "x2 = a - b # 1.0 - 0.1 = 0.9\n",
    "y2 = x + b # 0.9 = 0.1 = 1.0\n",
    "\n",
    "print('x2= ' + str(x) + ' y2= ' + str(y))\n"
   ]
  },
  {
   "cell_type": "code",
   "execution_count": 13,
   "metadata": {},
   "outputs": [
    {
     "name": "stdout",
     "output_type": "stream",
     "text": [
      "False\n"
     ]
    }
   ],
   "source": [
    "print(y1==y2)"
   ]
  },
  {
   "cell_type": "code",
   "execution_count": null,
   "metadata": {},
   "outputs": [],
   "source": []
  }
 ],
 "metadata": {
  "kernelspec": {
   "display_name": "Python 3",
   "language": "python",
   "name": "python3"
  },
  "language_info": {
   "codemirror_mode": {
    "name": "ipython",
    "version": 3
   },
   "file_extension": ".py",
   "mimetype": "text/x-python",
   "name": "python",
   "nbconvert_exporter": "python",
   "pygments_lexer": "ipython3",
   "version": "3.6.7"
  }
 },
 "nbformat": 4,
 "nbformat_minor": 2
}

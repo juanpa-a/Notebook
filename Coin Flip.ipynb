{
 "cells": [
  {
   "cell_type": "code",
   "execution_count": 121,
   "metadata": {},
   "outputs": [
    {
     "name": "stdout",
     "output_type": "stream",
     "text": [
      "is it better? 0.53125\n",
      "32\n"
     ]
    }
   ],
   "source": [
    "import random as rd\n",
    "n = 1000000\n",
    "\n",
    "def coin_flip(n):\n",
    "    \n",
    "    last_flip = 2    \n",
    "    streak = 1\n",
    "    strat, wins, count = 0, 0, 0\n",
    "    \n",
    "    for i in range(n):\n",
    "        \n",
    "        guess, flip = rd.randrange(2), rd.randrange(2)\n",
    "         \n",
    "        if streak > 15:\n",
    "            count += 1\n",
    "            if last_flip == 1:\n",
    "                strat = 0\n",
    "            else:\n",
    "                strat = 1\n",
    "                \n",
    "            if strat == flip:\n",
    "                wins += 1\n",
    "        \n",
    "        if last_flip == flip:\n",
    "            streak += 1\n",
    "        else:\n",
    "            streak = 1\n",
    "        \n",
    "        last_flip = flip   \n",
    "        \n",
    "    print('is it better?', wins/ count)\n",
    "    print(count)\n",
    "coin_flip(n)"
   ]
  },
  {
   "cell_type": "markdown",
   "metadata": {},
   "source": [
    "# Conclusion"
   ]
  },
  {
   "cell_type": "markdown",
   "metadata": {},
   "source": [
    "there is NO strategy in a coin flip"
   ]
  },
  {
   "cell_type": "code",
   "execution_count": null,
   "metadata": {},
   "outputs": [],
   "source": []
  }
 ],
 "metadata": {
  "kernelspec": {
   "display_name": "Python 3",
   "language": "python",
   "name": "python3"
  },
  "language_info": {
   "codemirror_mode": {
    "name": "ipython",
    "version": 3
   },
   "file_extension": ".py",
   "mimetype": "text/x-python",
   "name": "python",
   "nbconvert_exporter": "python",
   "pygments_lexer": "ipython3",
   "version": "3.6.7"
  }
 },
 "nbformat": 4,
 "nbformat_minor": 2
}

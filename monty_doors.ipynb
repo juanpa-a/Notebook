{
 "cells": [
  {
   "cell_type": "markdown",
   "metadata": {},
   "source": [
    "# Monty Hall!"
   ]
  },
  {
   "cell_type": "code",
   "execution_count": 171,
   "metadata": {},
   "outputs": [],
   "source": [
    "n = 10000"
   ]
  },
  {
   "cell_type": "markdown",
   "metadata": {},
   "source": [
    "### Changing door on reveal"
   ]
  },
  {
   "cell_type": "code",
   "execution_count": 177,
   "metadata": {},
   "outputs": [
    {
     "name": "stdout",
     "output_type": "stream",
     "text": [
      "66.09%\n"
     ]
    }
   ],
   "source": [
    "def change_mind(n):\n",
    "    wins = 0\n",
    "    for i in range(n):\n",
    "        doors = [1, 2, 3]\n",
    "        \n",
    "        pick    = random.randrange(1, 4)\n",
    "        prize   = random.randrange(1, 4)\n",
    "\n",
    "        exposed = int(random.choice([e for e in doors if e not in (pick, prize)]))  \n",
    "        changed = int(random.choice([e for e in doors if e not in (pick, exposed)]))\n",
    "        \n",
    "        if changed == prize:\n",
    "            wins += 1\n",
    "            \n",
    "    percent = wins/n\n",
    "    print(str(percent*100) + '%')\n",
    "    \n",
    "change_mind(n)"
   ]
  },
  {
   "cell_type": "markdown",
   "metadata": {},
   "source": [
    "### Keeping original door"
   ]
  },
  {
   "cell_type": "code",
   "execution_count": 176,
   "metadata": {},
   "outputs": [
    {
     "name": "stdout",
     "output_type": "stream",
     "text": [
      "33.46%\n"
     ]
    }
   ],
   "source": [
    "def keep_door(n):\n",
    "    wins = 0\n",
    "    for i in range(n):\n",
    "        pick    = random.randrange(1, 4)\n",
    "        prize   = random.randrange(1, 4)\n",
    "        \n",
    "        if(pick == prize):\n",
    "            wins += 1\n",
    "            \n",
    "    percent = wins/n\n",
    "    print(str(percent*100) + '%')\n",
    "keep_door(n)\n",
    "\n"
   ]
  },
  {
   "cell_type": "code",
   "execution_count": null,
   "metadata": {},
   "outputs": [],
   "source": []
  }
 ],
 "metadata": {
  "kernelspec": {
   "display_name": "Python 3",
   "language": "python",
   "name": "python3"
  },
  "language_info": {
   "codemirror_mode": {
    "name": "ipython",
    "version": 3
   },
   "file_extension": ".py",
   "mimetype": "text/x-python",
   "name": "python",
   "nbconvert_exporter": "python",
   "pygments_lexer": "ipython3",
   "version": "3.6.7"
  }
 },
 "nbformat": 4,
 "nbformat_minor": 2
}

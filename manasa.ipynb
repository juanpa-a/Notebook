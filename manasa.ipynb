{
 "cells": [
  {
   "cell_type": "markdown",
   "metadata": {},
   "source": [
    "# Manasa"
   ]
  },
  {
   "cell_type": "markdown",
   "metadata": {},
   "source": [
    "Manasa was sulking her way through a boring class when suddenly her teacher singled her out and asked her a question. He gave her a number n and Manasa has to come up with the smallest number m which contains atleast n number of zeros at the end of m!. Help Manasa come out of the sticky situation.\n",
    "\n",
    "### Given\n",
    "\n",
    "<ul>\n",
    "    <li> 1\n",
    "    <li> 2\n",
    "    <li> 3"
   ]
  },
  {
   "cell_type": "markdown",
   "metadata": {},
   "source": [
    "### Anwser should be\n",
    "\n",
    "<ul>\n",
    "    <li> As 4! = 24 and 5! = 120, so minimum value of m will be 5.\n",
    "    <li> As 9! = 362880 and 10! = 3628800, so minimum value of m will be 10.\n",
    "    <li> As 14! = 87178291200 and 15! = 1307674368000, so minimum value of m will be 15."
   ]
  },
  {
   "cell_type": "code",
   "execution_count": 31,
   "metadata": {},
   "outputs": [
    {
     "name": "stdout",
     "output_type": "stream",
     "text": [
      "Biggest Exponent     =>    32\n",
      "First Aproximation   =>    1059025\n",
      "Error Amount         =>    52947\n",
      "Result               =>    1006078\n",
      "Correct Answer       =>    847235\n"
     ]
    }
   ],
   "source": [
    "import math\n",
    "\n",
    "n = 18000000\n",
    "# n = 18\n",
    "\n",
    "\n",
    "def manasa(n):\n",
    "    answer = 0\n",
    "    count = 5\n",
    "    exponents = 0\n",
    "    while answer + exponents < n:\n",
    "        answer += 1\n",
    "        e = 2\n",
    "        while count/5**e >= 1:\n",
    "            if count%5**e == 0:\n",
    "                exponents += 1\n",
    "            e += 1\n",
    "        count += 5\n",
    "    return answer * 5\n",
    "# manasa(n)\n",
    "\n",
    "def manasa_check(n):\n",
    "    ans = 0\n",
    "    while n/5 >= 1:\n",
    "        n = math.floor(n/5)\n",
    "        ans += n\n",
    "    return ans\n",
    "\n",
    "def fast_masana(n):\n",
    "    if n >=5:\n",
    "        aprox = 5 * n\n",
    "    else:\n",
    "        aprox = (n-(n%5)) * 5\n",
    "    max_exp = 2\n",
    "    fixed_aprox = 0\n",
    "    \n",
    "    while (aprox/5**max_exp+1 > 1):\n",
    "        fixed_aprox += math.floor(aprox / 5**max_exp)\n",
    "        max_exp += 1\n",
    "        \n",
    "# >>>>>>>>>    DEBUG!!   <<<<<<<<<\n",
    "    print('Biggest Exponent     =>   ', max_exp)\n",
    "    print('First Aproximation   =>   ', aprox)\n",
    "    print('Error Amount         =>   ', fixed_aprox)\n",
    "    print('Result               =>   ', aprox-(fixed_aprox))\n",
    "# --------------------------------\n",
    "\n",
    "    while manasa_check(aprox) >= n:\n",
    "            aprox -= 1\n",
    "            \n",
    "    print('Correct Answer       =>   ', aprox+1)\n",
    "\n",
    "fast_masana(211805)\n",
    "# manasa_check(3299760)"
   ]
  },
  {
   "cell_type": "code",
   "execution_count": 32,
   "metadata": {},
   "outputs": [
    {
     "data": {
      "text/plain": [
       "264735"
      ]
     },
     "execution_count": 32,
     "metadata": {},
     "output_type": "execute_result"
    }
   ],
   "source": [
    "52947 * 5"
   ]
  },
  {
   "cell_type": "code",
   "execution_count": 33,
   "metadata": {},
   "outputs": [],
   "source": [
    "tests = [\n",
    "    211805,\n",
    "    990356,\n",
    "    771822,\n",
    "    758427,\n",
    "    639320,\n",
    "    115892,\n",
    "    306954,\n",
    "    146652,\n",
    "    954775,\n",
    "    824936\n",
    "]\n",
    "answers = [\n",
    "    847235,\n",
    "    3961440,\n",
    "    3087310,\n",
    "    3033730,\n",
    "    2557300,\n",
    "    463585,\n",
    "    1227835,\n",
    "    586625,\n",
    "    3819125,\n",
    "    3299760,\n",
    "]"
   ]
  },
  {
   "cell_type": "code",
   "execution_count": null,
   "metadata": {},
   "outputs": [],
   "source": []
  }
 ],
 "metadata": {
  "kernelspec": {
   "display_name": "Python 3",
   "language": "python",
   "name": "python3"
  },
  "language_info": {
   "codemirror_mode": {
    "name": "ipython",
    "version": 3
   },
   "file_extension": ".py",
   "mimetype": "text/x-python",
   "name": "python",
   "nbconvert_exporter": "python",
   "pygments_lexer": "ipython3",
   "version": "3.6.7"
  }
 },
 "nbformat": 4,
 "nbformat_minor": 2
}
